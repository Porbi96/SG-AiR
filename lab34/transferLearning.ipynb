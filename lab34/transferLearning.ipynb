{
 "cells": [
  {
   "cell_type": "code",
   "execution_count": 1,
   "metadata": {},
   "outputs": [
    {
     "name": "stdout",
     "output_type": "stream",
     "text": [
      "house\n",
      "five\n",
      "six\n",
      "tree\n",
      "zero\n"
     ]
    }
   ],
   "source": [
    "import os\n",
    "import librosa\n",
    "from keras.models import load_model\n",
    "from sklearn.preprocessing import LabelEncoder\n",
    "from keras.utils import np_utils\n",
    "from sklearn.model_selection import train_test_split\n",
    "\n",
    "train_audio_path = '../data/'\n",
    "labels = [\"house\", \"five\", \"six\", \"tree\", \"zero\"]\n",
    "\n",
    "all_wave = []\n",
    "all_label = []\n",
    "for label in labels:\n",
    "    print(label)\n",
    "    waves = [f for f in os.listdir(train_audio_path + '/'+ label) if f.endswith('.wav')]\n",
    "    for wav in waves:\n",
    "        samples, sample_rate = librosa.load(train_audio_path + '/' + label + '/' + wav, sr = 16000)\n",
    "        samples = librosa.resample(samples, sample_rate, 8000)\n",
    "        if(len(samples)== 8000) : \n",
    "            all_wave.append(samples)\n",
    "            all_label.append(label)"
   ]
  },
  {
   "cell_type": "code",
   "execution_count": 2,
   "metadata": {},
   "outputs": [],
   "source": [
    "import numpy as np\n",
    "\n",
    "le = LabelEncoder()\n",
    "y=le.fit_transform(all_label)\n",
    "classes= list(le.classes_)\n",
    "\n",
    "y=np_utils.to_categorical(y, num_classes=len(labels))\n",
    "all_wave = np.array(all_wave).reshape(-1,8000,1)"
   ]
  },
  {
   "cell_type": "code",
   "execution_count": 3,
   "metadata": {},
   "outputs": [
    {
     "name": "stdout",
     "output_type": "stream",
     "text": [
      "Model: \"functional_1\"\n",
      "_________________________________________________________________\n",
      "Layer (type)                 Output Shape              Param #   \n",
      "=================================================================\n",
      "input_1 (InputLayer)         [(None, 8000, 1)]         0         \n",
      "_________________________________________________________________\n",
      "conv1d (Conv1D)              (None, 7988, 8)           112       \n",
      "_________________________________________________________________\n",
      "max_pooling1d (MaxPooling1D) (None, 2662, 8)           0         \n",
      "_________________________________________________________________\n",
      "dropout (Dropout)            (None, 2662, 8)           0         \n",
      "_________________________________________________________________\n",
      "conv1d_1 (Conv1D)            (None, 2652, 16)          1424      \n",
      "_________________________________________________________________\n",
      "max_pooling1d_1 (MaxPooling1 (None, 884, 16)           0         \n",
      "_________________________________________________________________\n",
      "dropout_1 (Dropout)          (None, 884, 16)           0         \n",
      "_________________________________________________________________\n",
      "conv1d_2 (Conv1D)            (None, 876, 32)           4640      \n",
      "_________________________________________________________________\n",
      "max_pooling1d_2 (MaxPooling1 (None, 292, 32)           0         \n",
      "_________________________________________________________________\n",
      "dropout_2 (Dropout)          (None, 292, 32)           0         \n",
      "_________________________________________________________________\n",
      "conv1d_3 (Conv1D)            (None, 286, 64)           14400     \n",
      "_________________________________________________________________\n",
      "max_pooling1d_3 (MaxPooling1 (None, 95, 64)            0         \n",
      "_________________________________________________________________\n",
      "dropout_3 (Dropout)          (None, 95, 64)            0         \n",
      "_________________________________________________________________\n",
      "flatten (Flatten)            (None, 6080)              0         \n",
      "_________________________________________________________________\n",
      "dense (Dense)                (None, 256)               1556736   \n",
      "_________________________________________________________________\n",
      "dropout_4 (Dropout)          (None, 256)               0         \n",
      "_________________________________________________________________\n",
      "dense_1 (Dense)              (None, 128)               32896     \n",
      "_________________________________________________________________\n",
      "dropout_5 (Dropout)          (None, 128)               0         \n",
      "_________________________________________________________________\n",
      "dense_2 (Dense)              (None, 5)                 645       \n",
      "=================================================================\n",
      "Total params: 1,610,853\n",
      "Trainable params: 33,541\n",
      "Non-trainable params: 1,577,312\n",
      "_________________________________________________________________\n",
      "None\n"
     ]
    }
   ],
   "source": [
    "from keras.layers import Dense, Dropout, Flatten, Conv1D, Input, MaxPooling1D\n",
    "from keras.models import Model\n",
    "from keras.callbacks import EarlyStopping, ModelCheckpoint\n",
    "\n",
    "base_model = load_model('bestModel_set1_80.hdf5')\n",
    "for layer in base_model.layers[:-3]:\n",
    "    layer.trainable = False\n",
    "print(base_model.summary())\n",
    "\n",
    "model2= Model(inputs=base_model.input, outputs=base_model.layers[-4].output)\n",
    "print(model2.summary())\n",
    "\n",
    "x = model2.output\n",
    "x = Dense(128, activation='relu', name='dense_1')(x)\n",
    "x = Dropout(0.3, name='dropout_5')(x)\n",
    "x = Dense(len(labels), activation='softmax', name='dense_2')(x)\n",
    "\n",
    "final_model = Model(inputs=model2.input, outputs=x)\n",
    "final_model.summary()"
   ]
  },
  {
   "cell_type": "code",
   "execution_count": 5,
   "metadata": {},
   "outputs": [
    {
     "name": "stdout",
     "output_type": "stream",
     "text": [
      "Epoch 1/5\n",
      "61/61 [==============================] - ETA: 0s - loss: 1.3851 - accuracy: 0.4144\n",
      "Epoch 00001: val_accuracy improved from -inf to 0.57439, saving model to bestModel_set2_20_tlOn_noReinit.hdf5\n",
      "61/61 [==============================] - 33s 535ms/step - loss: 1.3851 - accuracy: 0.4144 - val_loss: 1.1843 - val_accuracy: 0.5744\n",
      "Epoch 2/5\n",
      "61/61 [==============================] - ETA: 0s - loss: 1.0595 - accuracy: 0.5861\n",
      "Epoch 00002: val_accuracy improved from 0.57439 to 0.71591, saving model to bestModel_set2_20_tlOn_noReinit.hdf5\n",
      "61/61 [==============================] - 31s 503ms/step - loss: 1.0595 - accuracy: 0.5861 - val_loss: 0.8304 - val_accuracy: 0.7159\n",
      "Epoch 3/5\n",
      "61/61 [==============================] - ETA: 0s - loss: 0.8410 - accuracy: 0.6935\n",
      "Epoch 00003: val_accuracy improved from 0.71591 to 0.75894, saving model to bestModel_set2_20_tlOn_noReinit.hdf5\n",
      "61/61 [==============================] - 31s 509ms/step - loss: 0.8410 - accuracy: 0.6935 - val_loss: 0.6743 - val_accuracy: 0.7589\n",
      "Epoch 4/5\n",
      "61/61 [==============================] - ETA: 0s - loss: 0.6646 - accuracy: 0.7682\n",
      "Epoch 00004: val_accuracy improved from 0.75894 to 0.80236, saving model to bestModel_set2_20_tlOn_noReinit.hdf5\n",
      "61/61 [==============================] - 31s 501ms/step - loss: 0.6646 - accuracy: 0.7682 - val_loss: 0.5206 - val_accuracy: 0.8024\n",
      "Epoch 5/5\n",
      "61/61 [==============================] - ETA: 0s - loss: 0.5351 - accuracy: 0.8096\n",
      "Epoch 00005: val_accuracy improved from 0.80236 to 0.82348, saving model to bestModel_set2_20_tlOn_noReinit.hdf5\n",
      "61/61 [==============================] - 30s 486ms/step - loss: 0.5351 - accuracy: 0.8096 - val_loss: 0.5051 - val_accuracy: 0.8235\n"
     ]
    }
   ],
   "source": [
    "x_train, x_test, y_train, y_test = train_test_split(np.array(all_wave),np.array(y),stratify=y,\n",
    "                                            test_size = 0.8,random_state=777,shuffle=True)\n",
    "\n",
    "es = EarlyStopping(monitor='val_loss', mode='min', verbose=1, patience=10, min_delta=0.0001) \n",
    "mc = ModelCheckpoint('bestModel_set2_20_tlOn_noReinit.hdf5', monitor='val_accuracy', verbose=1, save_best_only=True, mode='max')\n",
    "\n",
    "# base_model.compile(loss='categorical_crossentropy',optimizer='adam',metrics=['accuracy'])\n",
    "history = base_model.fit(x_train, y_train, epochs=5, callbacks=[es,mc], batch_size=32, validation_data=(x_test,y_test))"
   ]
  },
  {
   "cell_type": "code",
   "execution_count": null,
   "metadata": {},
   "outputs": [],
   "source": []
  }
 ],
 "metadata": {
  "kernelspec": {
   "display_name": "sg-venv",
   "language": "python",
   "name": "sg-venv"
  },
  "language_info": {
   "codemirror_mode": {
    "name": "ipython",
    "version": 3
   },
   "file_extension": ".py",
   "mimetype": "text/x-python",
   "name": "python",
   "nbconvert_exporter": "python",
   "pygments_lexer": "ipython3",
   "version": "3.7.8"
  }
 },
 "nbformat": 4,
 "nbformat_minor": 4
}
